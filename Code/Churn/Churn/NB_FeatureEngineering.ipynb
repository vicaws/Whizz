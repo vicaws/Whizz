{
 "cells": [
  {
   "cell_type": "code",
   "execution_count": 1,
   "metadata": {},
   "outputs": [],
   "source": [
    "import os\n",
    "import numpy as np\n",
    "import pandas as pd\n",
    "import matplotlib.pyplot as plt\n",
    "\n",
    "import config\n",
    "import utility.df\n",
    "import utility.iolib\n",
    "import utility.plotlib\n",
    "\n",
    "#env = sys.argv[1] if len(sys.argv) > 2 else \"dev\""
   ]
  },
  {
   "cell_type": "code",
   "execution_count": 2,
   "metadata": {},
   "outputs": [
    {
     "name": "stdout",
     "output_type": "stream",
     "text": [
      "Complete loading data for subscription and lesson history!\n"
     ]
    }
   ],
   "source": [
    "# Setup configuration\n",
    "cfg = config.ResearchConfig\n",
    "time_format = cfg.CSV_TIME_FORMAT\n",
    "date_format = cfg.CSV_DATE_FORMAT\n",
    "cutoff_date = pd.to_datetime(cfg.CUTOFF_DATE, format=cfg.CSV_DATE_FORMAT)\n",
    "\n",
    "# Retrieve data\n",
    "df_subspt, df_lesson, df_incomp, df_crclum = utility.iolib.retrieve_data(cfg)\n",
    "print(\"Complete loading data for subscription and lesson history!\")"
   ]
  },
  {
   "cell_type": "code",
   "execution_count": 3,
   "metadata": {},
   "outputs": [
    {
     "name": "stdout",
     "output_type": "stream",
     "text": [
      "Number of mon/thly subscribers = 3504\n",
      "Number of annual subscribers = 2525\n"
     ]
    }
   ],
   "source": [
    "pupil_list_mon = df_subspt[df_subspt.subscription_type==cfg.TYPE_MONTHLY].pupilId.unique()\n",
    "pupil_list_ann = df_subspt[df_subspt.subscription_type==cfg.TYPE_ANNUAL].pupilId.unique()\n",
    "print('Number of mon/thly subscribers = {}'.format(len(pupil_list_mon)))\n",
    "print('Number of annual subscribers = {}'.format(len(pupil_list_ann)))"
   ]
  },
  {
   "cell_type": "code",
   "execution_count": 5,
   "metadata": {},
   "outputs": [
    {
     "name": "stdout",
     "output_type": "stream",
     "text": [
      "By the cutoff date 2018-04-20, there are 1234 active subscriptions.\n",
      "These subscribers shall be removed from the analysis because we have no evidence to know the lifetime of their subscriptions. \n",
      "\n",
      "In the first month of dataset, there are 154 renewal or new subscriptions.\n",
      "These subscribers shall be removed from the analysis because we have no evidence to show if they renewed or newly joined. \n",
      "\n",
      "In summary, there are 1380/5685 subscribers being removed from the dataset in the analysis. \n",
      "\n",
      "Calculate customer month in the subscription table.\n"
     ]
    },
    {
     "name": "stderr",
     "output_type": "stream",
     "text": [
      "100%|██████████| 4305/4305 [00:05<00:00, 824.05it/s] \n"
     ]
    },
    {
     "name": "stdout",
     "output_type": "stream",
     "text": [
      "Start assigning customer month for complete lesson table.\n"
     ]
    },
    {
     "name": "stderr",
     "output_type": "stream",
     "text": [
      "100%|██████████| 21100/21100 [1:09:42<00:00,  5.04it/s]\n"
     ]
    },
    {
     "name": "stdout",
     "output_type": "stream",
     "text": [
      "\n",
      "Start assigning customer month for incomplete lesson table.\n"
     ]
    },
    {
     "name": "stderr",
     "output_type": "stream",
     "text": [
      "100%|██████████| 21100/21100 [06:50<00:00, 51.35it/s]\n"
     ]
    }
   ],
   "source": [
    "df_usage = utility.df.customer_usage(df_subspt, df_lesson, df_incomp, cfg)"
   ]
  },
  {
   "cell_type": "code",
   "execution_count": 5,
   "metadata": {},
   "outputs": [
    {
     "data": {
      "text/html": [
       "<div>\n",
       "<style scoped>\n",
       "    .dataframe tbody tr th:only-of-type {\n",
       "        vertical-align: middle;\n",
       "    }\n",
       "\n",
       "    .dataframe tbody tr th {\n",
       "        vertical-align: top;\n",
       "    }\n",
       "\n",
       "    .dataframe thead th {\n",
       "        text-align: right;\n",
       "    }\n",
       "</style>\n",
       "<table border=\"1\" class=\"dataframe\">\n",
       "  <thead>\n",
       "    <tr style=\"text-align: right;\">\n",
       "      <th></th>\n",
       "      <th></th>\n",
       "      <th>customer_month</th>\n",
       "      <th>time_taken_complete</th>\n",
       "      <th>time_taken_incomplete</th>\n",
       "    </tr>\n",
       "    <tr>\n",
       "      <th>pupilId</th>\n",
       "      <th>date</th>\n",
       "      <th></th>\n",
       "      <th></th>\n",
       "      <th></th>\n",
       "    </tr>\n",
       "  </thead>\n",
       "  <tbody>\n",
       "    <tr>\n",
       "      <th rowspan=\"5\" valign=\"top\">988318</th>\n",
       "      <th>2016-07-16</th>\n",
       "      <td>1.0</td>\n",
       "      <td>451.0</td>\n",
       "      <td>0.0</td>\n",
       "    </tr>\n",
       "    <tr>\n",
       "      <th>2016-07-18</th>\n",
       "      <td>1.0</td>\n",
       "      <td>2012.0</td>\n",
       "      <td>0.0</td>\n",
       "    </tr>\n",
       "    <tr>\n",
       "      <th>2016-07-20</th>\n",
       "      <td>1.0</td>\n",
       "      <td>3640.0</td>\n",
       "      <td>230.0</td>\n",
       "    </tr>\n",
       "    <tr>\n",
       "      <th>2016-07-21</th>\n",
       "      <td>1.0</td>\n",
       "      <td>0.0</td>\n",
       "      <td>124.0</td>\n",
       "    </tr>\n",
       "    <tr>\n",
       "      <th>2016-07-22</th>\n",
       "      <td>1.0</td>\n",
       "      <td>3270.0</td>\n",
       "      <td>1536.0</td>\n",
       "    </tr>\n",
       "  </tbody>\n",
       "</table>\n",
       "</div>"
      ],
      "text/plain": [
       "                    customer_month  time_taken_complete  time_taken_incomplete\n",
       "pupilId date                                                                  \n",
       "988318  2016-07-16             1.0                451.0                    0.0\n",
       "        2016-07-18             1.0               2012.0                    0.0\n",
       "        2016-07-20             1.0               3640.0                  230.0\n",
       "        2016-07-21             1.0                  0.0                  124.0\n",
       "        2016-07-22             1.0               3270.0                 1536.0"
      ]
     },
     "execution_count": 5,
     "metadata": {},
     "output_type": "execute_result"
    }
   ],
   "source": [
    "df_usage.head()"
   ]
  },
  {
   "cell_type": "code",
   "execution_count": 6,
   "metadata": {},
   "outputs": [
    {
     "data": {
      "text/plain": [
       "array([ 1.,  2.,  3.,  4.,  5.,  6.,  7.,  9., 10., 11., 13.,  8., 12.,\n",
       "       14., 15., 16., 17., 18., 19., 20., 21., 22., 23., 25., 24.])"
      ]
     },
     "execution_count": 6,
     "metadata": {},
     "output_type": "execute_result"
    }
   ],
   "source": [
    "df_usage.customer_month.unique()"
   ]
  },
  {
   "cell_type": "code",
   "execution_count": null,
   "metadata": {},
   "outputs": [],
   "source": []
  }
 ],
 "metadata": {
  "kernelspec": {
   "display_name": "Python 3",
   "language": "python",
   "name": "python3"
  },
  "language_info": {
   "codemirror_mode": {
    "name": "ipython",
    "version": 3
   },
   "file_extension": ".py",
   "mimetype": "text/x-python",
   "name": "python",
   "nbconvert_exporter": "python",
   "pygments_lexer": "ipython3",
   "version": "3.6.4"
  }
 },
 "nbformat": 4,
 "nbformat_minor": 2
}
