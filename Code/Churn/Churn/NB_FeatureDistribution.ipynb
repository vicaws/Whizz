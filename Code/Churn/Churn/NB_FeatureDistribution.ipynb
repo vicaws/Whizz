{
 "cells": [
  {
   "cell_type": "code",
   "execution_count": 6,
   "metadata": {},
   "outputs": [],
   "source": [
    "import os\n",
    "import warnings\n",
    "import numpy as np\n",
    "import pandas as pd\n",
    "import matplotlib.pyplot as plt\n",
    "import seaborn as sns\n",
    "\n",
    "from tqdm import tqdm\n",
    "from pomegranate import *\n",
    "from scipy import stats\n",
    "\n",
    "import config\n",
    "import utility.df\n",
    "import utility.iolib\n",
    "import utility.plotlib\n",
    "import model.performance\n",
    "\n",
    "from utility.feature import Feature\n",
    "from utility.feature import FeatureCM\n",
    "from model.dataEngine import DataEngine\n",
    "from model.featureConfig import FeatureConfig_G1\n",
    "from model.featureConfig import FeatureConfig_G2\n",
    "from model.featureConfig import FeatureConfig_G3\n",
    "from model.mixtureModel import ModelParam\n",
    "from model.mixtureModel import GroupConfig\n",
    "from model.mixtureModel import MixtureModel"
   ]
  },
  {
   "cell_type": "markdown",
   "metadata": {},
   "source": [
    "## Configuration and Data Loading"
   ]
  },
  {
   "cell_type": "code",
   "execution_count": 7,
   "metadata": {},
   "outputs": [
    {
     "name": "stdout",
     "output_type": "stream",
     "text": [
      "Complete loading data for subscription and lesson history!\n",
      "By the cutoff date 2018-04-20, there are 1234 active subscriptions.\n",
      "These subscribers shall be removed from the analysis because we have no evidence to know the lifetime of their subscriptions. \n",
      "\n",
      "In the first month of dataset starting from 2014-01-01, there are 154 renewal or new subscriptions.\n",
      "These subscribers shall be removed from the analysis because we have no evidence to show if they renewed or newly joined. \n",
      "\n",
      "We also choose to remove 2525 annual subscribers. \n",
      "\n",
      "In summary, there are 3013/5685 subscribers being removed from the dataset in the analysis. \n",
      "\n",
      "Calculate customer month in the subscription table.\n"
     ]
    },
    {
     "name": "stderr",
     "output_type": "stream",
     "text": [
      "100%|██████████| 2672/2672 [00:03<00:00, 857.59it/s] \n"
     ]
    },
    {
     "name": "stdout",
     "output_type": "stream",
     "text": [
      "Construct data-driven dates frame.\n",
      "The dates frame has already been assigned customer month and saved in a file. The file has been loaded!\n"
     ]
    }
   ],
   "source": [
    "# Setup configuration\n",
    "cfg = config.ResearchConfig_MonOnly\n",
    "time_format = cfg.CSV_TIME_FORMAT\n",
    "date_format = cfg.CSV_DATE_FORMAT\n",
    "cutoff_date = pd.to_datetime(cfg.CUTOFF_DATE, format=cfg.CSV_DATE_FORMAT)\n",
    "\n",
    "# Retrieve data\n",
    "df_subspt, df_lesson, df_incomp, df_crclum, df_pupils = utility.iolib.retrieve_data(cfg)\n",
    "print(\"Complete loading data for subscription and lesson history!\")\n",
    "\n",
    "# Filter data\n",
    "cutoff_date = pd.to_datetime(cfg.CUTOFF_DATE, format=cfg.CSV_DATE_FORMAT)\n",
    "first_date_impFromData = df_subspt.subscription_start_date.min()\n",
    "\n",
    "pupils_toBeRemoved = utility.df.filter_subspt_data(\n",
    "    df_subspt, first_date_impFromData, cutoff_date, remove_annual_subspt=cfg.MONTHLY_ONLY)\n",
    "df_lesson1 = df_lesson[~df_lesson['pupilId'].isin(pupils_toBeRemoved)]\n",
    "df_incomp1 = df_incomp[~df_incomp['pupilId'].isin(pupils_toBeRemoved)]\n",
    "df_subspt1 = df_subspt[~df_subspt['pupilId'].isin(pupils_toBeRemoved)]\n",
    "\n",
    "df_subspt1 = utility.df.compute_customer_month(df_subspt1, cfg)\n",
    "\n",
    "# Construct dates frame\n",
    "df_datesFrame = utility.df.construct_dates_frame(df_subspt1, df_lesson1, df_incomp1, cfg)\n",
    "df_datesFrame.fillna(0, inplace=True)"
   ]
  },
  {
   "cell_type": "markdown",
   "metadata": {},
   "source": [
    "## Features Preparation"
   ]
  },
  {
   "cell_type": "code",
   "execution_count": 8,
   "metadata": {},
   "outputs": [
    {
     "name": "stdout",
     "output_type": "stream",
     "text": [
      "Construct feature object.\n",
      "+ Add feature: usage time.\n",
      "+ Add feature: progressions.\n",
      "+ Add feature: pupils' age.\n",
      "+ Add feature: outcome.\n",
      "Start binning stackDepth for complete lesson table.\n",
      "Start binning stackDepth for incomplete lesson table.\n",
      "+ Add feature: hardship.\n",
      "+ Add feature: mark.\n",
      "Aggregate data over customer months.\n"
     ]
    },
    {
     "name": "stderr",
     "output_type": "stream",
     "text": [
      "100%|██████████| 49/49 [00:24<00:00,  1.97it/s]\n"
     ]
    }
   ],
   "source": [
    "data_engine = DataEngine(df_subspt1, df_datesFrame, df_lesson1, df_incomp1, df_pupils, cfg)\n",
    "data_engine.aggregate_features()"
   ]
  },
  {
   "cell_type": "markdown",
   "metadata": {},
   "source": [
    "## Mixture Model Configuration"
   ]
  },
  {
   "cell_type": "code",
   "execution_count": 10,
   "metadata": {},
   "outputs": [],
   "source": [
    "modelParam_G1 = ModelParam(n_components=10, n_trials=2, n_multi=2, baysian=True)\n",
    "modelParam_G2 = ModelParam(n_components=3, n_trials=2, n_multi=2, baysian=False)\n",
    "modelParam_G3 = ModelParam(n_components=10, n_trials=2, n_multi=2, baysian=True)\n",
    "\n",
    "group_config = GroupConfig(data_engine, modelParam_G1, modelParam_G2, modelParam_G3)"
   ]
  },
  {
   "cell_type": "markdown",
   "metadata": {},
   "source": [
    "## Mixture Model"
   ]
  },
  {
   "cell_type": "code",
   "execution_count": 11,
   "metadata": {},
   "outputs": [
    {
     "name": "stdout",
     "output_type": "stream",
     "text": [
      "Start fitting mixture model for G1.\n",
      "Start fitting multivariate mixture models.\n",
      "Trial NO. = 1/2\n",
      "Trial NO. = 2/2\n",
      "Start fitting mixture model for G2.\n",
      "Improvement = 152.59507332897124\n",
      "Weights = [0.44009209 0.34682162 0.21308629]\n",
      "Start fitting multivariate mixture models.\n",
      "Trial NO. = 1/2\n",
      "Trial NO. = 2/2\n",
      "Start fitting mixture model for G3.\n",
      "Improvement = 3254.9897468088457\n",
      "Weights = [0.321608   0.16320731 0.4935955  0.02158919]\n",
      "Improvement = 4665.727973798836\n",
      "Weights = [0.152151   0.01406478 0.26076983 0.57301439]\n",
      "Improvement = 7482.269497348127\n",
      "Weights = [0.09835112 0.06319701 0.06011804 0.77833382]\n",
      "Improvement = 4782.621878518301\n",
      "Weights = [0.25644716 0.11528125 0.56660471 0.06166688]\n",
      "Start fitting multivariate mixture models.\n",
      "Trial NO. = 1/2\n",
      "Trial NO. = 2/2\n"
     ]
    }
   ],
   "source": [
    "mixture_model = MixtureModel(group_config)\n",
    "mixture_model.fit()"
   ]
  },
  {
   "cell_type": "code",
   "execution_count": 12,
   "metadata": {},
   "outputs": [],
   "source": [
    "map_group_model = mixture_model.map_group_model_\n",
    "map_group_model_best = mixture_model.select_bestMixtureModel('deviation')"
   ]
  },
  {
   "cell_type": "markdown",
   "metadata": {},
   "source": [
    "## Transitional analysis"
   ]
  },
  {
   "cell_type": "code",
   "execution_count": null,
   "metadata": {},
   "outputs": [],
   "source": [
    "df_grouping_G1 = map_group_model_best['G1'][0]\n",
    "df_grouping_G2 = map_group_model_best['G2'][0]\n",
    "df_grouping_G3 = map_group_model_best['G3'][0]"
   ]
  },
  {
   "cell_type": "markdown",
   "metadata": {},
   "source": [
    "## Visualisation"
   ]
  },
  {
   "cell_type": "code",
   "execution_count": 14,
   "metadata": {},
   "outputs": [],
   "source": [
    "df_grouping = map_group_model_best['G1'][0]\n",
    "y = mixture_model.map_group_expectation_['G1']"
   ]
  },
  {
   "cell_type": "code",
   "execution_count": 16,
   "metadata": {},
   "outputs": [
    {
     "data": {
      "text/plain": [
       "Text(0,0.5,'Group churn rate')"
      ]
     },
     "execution_count": 16,
     "metadata": {},
     "output_type": "execute_result"
    },
    {
     "data": {
      "image/png": "[encoded data removed]",
      "text/plain": [
       "<matplotlib.figure.Figure at 0x266d5198320>"
      ]
     },
     "metadata": {},
     "output_type": "display_data"
    }
   ],
   "source": [
    "fig = plt.figure(figsize=(5,3))\n",
    "ax = fig.add_subplot(111)\n",
    "ax.step(df_grouping['cumcount'].values, df_grouping['churn'].values)\n",
    "ax.axhline(y=y.sum()/len(y), linestyle='--', color='k')\n",
    "ax.axvline(x=np.percentile(np.arange(0, len(y)), 1), linestyle=':', color='g')\n",
    "ax.axvline(x=np.percentile(np.arange(0, len(y)), 5), linestyle=':', color='g')\n",
    "ax.axvline(x=np.percentile(np.arange(0, len(y)), 50), linestyle=':', color='g')\n",
    "ax.axvline(x=np.percentile(np.arange(0, len(y)), 90), linestyle=':', color='g')\n",
    "ax.set_xlabel('Number of pupils')\n",
    "ax.set_ylabel('Group churn rate')\n",
    "#ax.set_xscale('log')\n",
    "#ax.set_yscale('log')"
   ]
  },
  {
   "cell_type": "code",
   "execution_count": 17,
   "metadata": {},
   "outputs": [],
   "source": [
    "agg_anchors = [0, 1, 99.4, 100]\n",
    "num_agg = len(agg_anchors) - 1\n",
    "agg_churn = []\n",
    "agg_count = []\n",
    "l = np.arange(0, len(y)) + 1\n",
    "for i in range(len(agg_anchors)):\n",
    "    if i==0:\n",
    "        continue\n",
    "    else:\n",
    "        lower = np.percentile(l, agg_anchors[i-1])\n",
    "        upper = np.percentile(l, agg_anchors[i])\n",
    "    \n",
    "    if i==len(agg_anchors)-1:\n",
    "        mask = (df_grouping['cumcount']>=lower) & (df_grouping['cumcount']<=upper)\n",
    "    else:\n",
    "        mask = (df_grouping['cumcount']>=lower) & (df_grouping['cumcount']<upper)\n",
    "        \n",
    "    df_grouping.loc[mask, 'agg'] = i\n",
    "    df = df_grouping[mask]\n",
    "    temp = df['churn'] * df['count']\n",
    "    num_churn = temp.sum()\n",
    "    agg_count.append(df['count'].sum())\n",
    "    agg_churn.append(num_churn*1./agg_count[i-1])\n",
    "\n",
    "data = {'count': agg_count,\n",
    "        'churn': agg_churn\n",
    "    }\n",
    "df_grouping_agg = pd.DataFrame(data)\n",
    "df_grouping_agg['cumcount'] = df_grouping_agg['count'].cumsum()"
   ]
  },
  {
   "cell_type": "code",
   "execution_count": 18,
   "metadata": {},
   "outputs": [
    {
     "data": {
      "text/plain": [
       "[<matplotlib.lines.Line2D at 0x266d7c00128>]"
      ]
     },
     "execution_count": 18,
     "metadata": {},
     "output_type": "execute_result"
    },
    {
     "data": {
      "image/png": "[encoded data removed]",
      "text/plain": [
       "<matplotlib.figure.Figure at 0x266dda7c978>"
      ]
     },
     "metadata": {},
     "output_type": "display_data"
    }
   ],
   "source": [
    "xp = df_grouping_agg['cumcount'].values\n",
    "yp = df_grouping_agg['churn'].values\n",
    "\n",
    "xp = np.insert(xp, 0, 0)\n",
    "yp = np.insert(yp, 0, 0)\n",
    "\n",
    "plt.fill_between(xp, yp, step='pre', alpha=0.4)\n",
    "plt.plot(xp, yp, drawstyle=\"steps\", alpha=0.8)\n",
    "#plt.step(df_countchurn['cumcount'].values, df_countchurn['churn'].values, alpha=0.8)"
   ]
  },
  {
   "cell_type": "code",
   "execution_count": 19,
   "metadata": {},
   "outputs": [
    {
     "data": {
      "text/html": [
       "<div>\n",
       "<style scoped>\n",
       "    .dataframe tbody tr th:only-of-type {\n",
       "        vertical-align: middle;\n",
       "    }\n",
       "\n",
       "    .dataframe tbody tr th {\n",
       "        vertical-align: top;\n",
       "    }\n",
       "\n",
       "    .dataframe thead th {\n",
       "        text-align: right;\n",
       "    }\n",
       "</style>\n",
       "<table border=\"1\" class=\"dataframe\">\n",
       "  <thead>\n",
       "    <tr style=\"text-align: right;\">\n",
       "      <th></th>\n",
       "      <th>churn</th>\n",
       "      <th>count</th>\n",
       "      <th>cumcount</th>\n",
       "    </tr>\n",
       "  </thead>\n",
       "  <tbody>\n",
       "    <tr>\n",
       "      <th>0</th>\n",
       "      <td>0.468750</td>\n",
       "      <td>32</td>\n",
       "      <td>32</td>\n",
       "    </tr>\n",
       "    <tr>\n",
       "      <th>1</th>\n",
       "      <td>0.232915</td>\n",
       "      <td>6131</td>\n",
       "      <td>6163</td>\n",
       "    </tr>\n",
       "    <tr>\n",
       "      <th>2</th>\n",
       "      <td>0.125984</td>\n",
       "      <td>254</td>\n",
       "      <td>6417</td>\n",
       "    </tr>\n",
       "  </tbody>\n",
       "</table>\n",
       "</div>"
      ],
      "text/plain": [
       "      churn  count  cumcount\n",
       "0  0.468750     32        32\n",
       "1  0.232915   6131      6163\n",
       "2  0.125984    254      6417"
      ]
     },
     "execution_count": 19,
     "metadata": {},
     "output_type": "execute_result"
    }
   ],
   "source": [
    "df_grouping_agg"
   ]
  },
  {
   "cell_type": "code",
   "execution_count": null,
   "metadata": {},
   "outputs": [],
   "source": []
  },
  {
   "cell_type": "markdown",
   "metadata": {},
   "source": [
    "## Source Code - Groups"
   ]
  },
  {
   "cell_type": "code",
   "execution_count": 4,
   "metadata": {},
   "outputs": [
    {
     "name": "stdout",
     "output_type": "stream",
     "text": [
      "Churn rate for inactive subscribers = 22.99%.\n",
      "Churn rate for active subscribers = 10.46%.\n",
      "Churn rate for subscribers having no assessment = 16.94%.\n",
      "Churn rate for subscribers having assessment = 10.21%.\n",
      "Churn rate for good-quality subscribers = 10.21%.\n",
      "Churn rate for not good-quality subscribers = 22.61%.\n",
      "Churn rate for all subscribers = 14.96%.\n"
     ]
    }
   ],
   "source": [
    "df_whizz1 = data_engine.df_whizz_\n",
    "\n",
    "mask_churn = df_whizz1.churn==1\n",
    "mask_inactive = df_whizz1.active==0\n",
    "mask_noassess = (df_whizz1.assess==0) & (df_whizz1.active==1)\n",
    "mask_fine = ~mask_inactive & ~mask_noassess\n",
    "\n",
    "print('Churn rate for inactive subscribers = {:.2f}%.'.\\\n",
    "      format(df_whizz1[mask_inactive&mask_churn].shape[0]/df_whizz1[mask_inactive].shape[0]*100))\n",
    "print('Churn rate for active subscribers = {:.2f}%.'.\\\n",
    "      format(df_whizz1[~mask_inactive&mask_churn].shape[0]/df_whizz1[~mask_inactive].shape[0]*100))\n",
    "\n",
    "print('Churn rate for subscribers having no assessment = {:.2f}%.'.\\\n",
    "      format(df_whizz1[mask_noassess&mask_churn].shape[0]/\\\n",
    "             df_whizz1[mask_noassess].shape[0]*100))\n",
    "print('Churn rate for subscribers having assessment = {:.2f}%.'.\\\n",
    "      format(df_whizz1[~mask_noassess&mask_churn&~mask_inactive].shape[0]/\\\n",
    "             df_whizz1[~mask_noassess&~mask_inactive].shape[0]*100))\n",
    "\n",
    "print('Churn rate for good-quality subscribers = {:.2f}%.'.\\\n",
    "      format(df_whizz1[mask_fine&mask_churn].shape[0]/\\\n",
    "             df_whizz1[mask_fine].shape[0]*100))\n",
    "print('Churn rate for not good-quality subscribers = {:.2f}%.'.\\\n",
    "      format(df_whizz1[~mask_fine&mask_churn].shape[0]/\\\n",
    "             df_whizz1[~mask_fine].shape[0]*100))\n",
    "print('Churn rate for all subscribers = {:.2f}%.'.\\\n",
    "      format(df_whizz1[mask_churn].shape[0]/\\\n",
    "             df_whizz1.shape[0]*100))\n",
    "\n",
    "df_whizz_G1 = df_whizz1[mask_inactive]\n",
    "df_whizz_G2 = df_whizz1[mask_noassess]\n",
    "df_whizz_G3 = df_whizz1[mask_fine]\n",
    "\n",
    "ftrConfig_G1 = FeatureConfig_G1()\n",
    "ftrConfig_G2 = FeatureConfig_G2()\n",
    "ftrConfig_G3 = FeatureConfig_G3()"
   ]
  },
  {
   "cell_type": "code",
   "execution_count": 6,
   "metadata": {},
   "outputs": [],
   "source": [
    "def fit_independentComponent(df_whizz, feature_config, feature_name, plot=0, hist_bin=35):\n",
    "    '''Fit mixed distributions for features defined as independent component.\n",
    "    \n",
    "    Parameters\n",
    "    ----------\n",
    "    df_whizz: pandas.DataFrame\n",
    "        Data frame storing feature and target data for specific group.\n",
    "    \n",
    "    feature_config: FeatureConfig object\n",
    "        Feature configuration for specific group.\n",
    "    \n",
    "    feature_name: string\n",
    "        Feature name.\n",
    "    \n",
    "    plot: int\n",
    "        If plot=0, then no plot will be shown;\n",
    "        If plot=1, then the density plot of fitted mixture model along with histogram will be shown;\n",
    "        If plot>1, then the Gaussian KDE and histogram plots of raw and transformed data will be shown.\n",
    "    \n",
    "    hist_bin: int\n",
    "        The number of bins in the density and histogram plot (when plot=1).\n",
    "    \n",
    "    Returns\n",
    "    -------\n",
    "    gmm: GeneralMixtureModel object\n",
    "        The trained GeneralMixtureModel object which can be used to predict the labels and probabilities.\n",
    "    \n",
    "    x: array_like, shape=(n_sample, 1)\n",
    "        Feature data.\n",
    "    '''\n",
    "    from scipy import stats\n",
    "    from sklearn.preprocessing import MinMaxScaler\n",
    "    \n",
    "    ftr_config = eval('feature_config.'+feature_name)\n",
    "\n",
    "    if plot>1:\n",
    "        utility.plotlib.compare_transformed_singleValueRemoved(df_whizz, feature_name, 'min')\n",
    "        \n",
    "    # Define the data to be fitted\n",
    "    x_raw = df_whizz[feature_name].values\n",
    "    # Linear transformation\n",
    "    x = x_raw * ftr_config.multiplierPre\n",
    "    x += ftr_config.shiftPre\n",
    "    # Box-cox transformation\n",
    "    if ftr_config.bcTransform:\n",
    "        xt, bc_param = stats.boxcox(x)\n",
    "        x = xt\n",
    "    x = x.reshape(-1,1)\n",
    "    # Standardisation\n",
    "    scaler = MinMaxScaler()\n",
    "    scaler.fit(x)\n",
    "    x = scaler.transform(x)\n",
    "    x *= ftr_config.multiplierPost\n",
    "    x += ftr_config.shiftPost\n",
    "\n",
    "    # Define the list of distributions to be mixed\n",
    "    distribution_list = ftr_config.distributionList\n",
    "\n",
    "    gmm = GeneralMixtureModel(distribution_list)\n",
    "    print('Improvement = {}'.format(gmm.fit(x, verbose=False)))\n",
    "    print('Weights = {}'.format(np.exp(gmm.weights)))\n",
    "\n",
    "    if plot==1:\n",
    "        utility.plotlib.density_mixtureModel(feature_name, x, gmm, hist_bin=hist_bin)\n",
    "    \n",
    "    return gmm, x"
   ]
  },
  {
   "cell_type": "code",
   "execution_count": 7,
   "metadata": {},
   "outputs": [],
   "source": [
    "def getData_multivariateComponent(df_whizz, feature_config):\n",
    "    '''Prepare the feature and target data for multivariate compoments.\n",
    "    \n",
    "    Parameters\n",
    "    ----------\n",
    "    df_whizz: pandas.DataFrame\n",
    "        Data frame storing feature and target data for specific group.\n",
    "        \n",
    "    feature_config: FeatureConfig object\n",
    "        Feature configuration for specific group.\n",
    "    \n",
    "    Returns\n",
    "    -------\n",
    "    X: array_like, shape=(n_sample, n_features)\n",
    "        Feature data.\n",
    "        \n",
    "    y: array_like, shape=(n_sample, 1)\n",
    "        Target data (1 for churn, 0 otherwise).\n",
    "    '''\n",
    "    \n",
    "    from scipy import stats\n",
    "    from sklearn.preprocessing import MinMaxScaler\n",
    "    \n",
    "    ftr_list_multivariate = feature_config.ftr_list_multivariate\n",
    "\n",
    "    # Linear transformation\n",
    "    X = np.array(df_whizz[ftr_list_multivariate]+feature_config.multivariate_shift)\n",
    "    # Box-Cox transformation\n",
    "    Xt = X\n",
    "    for i in range(0, X.shape[1]):\n",
    "        xt, _ = stats.boxcox(X[:,i])\n",
    "        Xt[:, i] = xt\n",
    "    # Standardisation\n",
    "    Xt_scaled = MinMaxScaler().fit(Xt).transform(Xt)\n",
    "\n",
    "    y = df_whizz.churn.values\n",
    "    \n",
    "    return Xt_scaled, y\n",
    "\n",
    "def construct_df_grouping(group, group_name, df_whizz):\n",
    "    # Identify unique groups/labels and frequency\n",
    "    label = np.array(group).transpose()\n",
    "    unq_rows, count = np.unique(label, axis=0, return_counts=True)\n",
    "    map_group_count = {tuple(i):j for i,j in zip(unq_rows,count)}\n",
    "\n",
    "    # Compute churn rate within each group\n",
    "    map_group_churn = {}\n",
    "    map_group_pupilId = {}\n",
    "    map_group_cmonth = {}\n",
    "    pupilId = df_whizz.reset_index()['pupilId'].values\n",
    "    customer_month = df_whizz.reset_index()['customer_month'].values\n",
    "    \n",
    "    for k in range(0, len(unq_rows)):\n",
    "        indices = [i for i, x in enumerate(label.tolist()) if x==unq_rows[k].tolist()]\n",
    "        l = y[indices]\n",
    "        map_group_churn[tuple(unq_rows[k])] = l.sum()*1. / len(l)\n",
    "        map_group_pupilId[k] = pupilId[indices]\n",
    "        map_group_cmonth[k] = customer_month[indices]\n",
    "        \n",
    "    # Construct the grouping data frame\n",
    "    df_grouping = pd.DataFrame(unq_rows, columns=group_name)\n",
    "    df_grouping['groupId'] = range(len(df_grouping))\n",
    "    df_grouping = df_grouping.assign(count=count,\n",
    "                                     churn=list(map_group_churn.values()))\n",
    "    df_grouping.sort_values(by='churn', ascending=False, inplace=True)\n",
    "    df_grouping['cumcount'] = df_grouping['count'].cumsum()\n",
    "    \n",
    "    \n",
    "    return df_grouping, map_group_pupilId, map_group_cmonth\n",
    "\n",
    "def compute_groupingScore(df_grouping_list, expectation, criterion='deviation'):\n",
    "    score_list = []\n",
    "    y = expectation\n",
    "    for df_grouping in df_grouping_list:\n",
    "        base_churn = y.sum()*1. / len(y)\n",
    "        group_churn = df_grouping['churn'].values\n",
    "        group_count = df_grouping['count'].values\n",
    "        if criterion=='deviation':\n",
    "            score = np.sum(abs(base_churn-group_churn)* group_count)\n",
    "        elif criterion=='variance':\n",
    "            score = np.sum((base_churn-group_churn)**2 * group_count**2)\n",
    "        elif criterion=='max_number':\n",
    "            score = max((group_churn-base_churn)* group_count)\n",
    "        elif criterion=='min_number':\n",
    "            score = -min((group_churn-base_churn)* group_count)\n",
    "        score_list.append(score)\n",
    "    \n",
    "    return score_list"
   ]
  },
  {
   "cell_type": "markdown",
   "metadata": {},
   "source": [
    "## Source Code - Fitting Mixture Model"
   ]
  },
  {
   "cell_type": "code",
   "execution_count": 236,
   "metadata": {},
   "outputs": [],
   "source": [
    "ftrConfig = ftrConfig_G1\n",
    "df_whizz = df_whizz_G1\n",
    "\n",
    "n_components = 10\n",
    "n_trials = 2\n",
    "n_multi = 2\n",
    "\n",
    "baysian = True\n",
    "\n",
    "#############\n",
    "def fit_mixtureModel(df_whizz, ftrConfig, n_components, n_trials, n_multi, baysian):\n",
    "    from sklearn import mixture\n",
    "    X, y = getData_multivariateComponent(df_whizz, ftrConfig)\n",
    "\n",
    "    ftr_list_multivariate = ftrConfig.ftr_list_multivariate\n",
    "    ftr_list_independent = ftrConfig.ftr_list_independent\n",
    "\n",
    "    # Mixture model for independent components\n",
    "    group_ic = []\n",
    "    group_ic_name = []\n",
    "    n_var_indep = len(ftr_list_independent)\n",
    "    for i_var in range(n_var_indep):\n",
    "        ftr_str = ftr_list_independent[i_var]\n",
    "        gmm, x = fit_independentComponent(df_whizz, ftrConfig, ftr_str, plot=1, hist_bin=35)\n",
    "        l = gmm.predict(x)\n",
    "        group_ic.append(l)\n",
    "        group_ic_name.append('indep'+str(i_var))\n",
    "    \n",
    "    # Mixture model for multivariate components\n",
    "    n_features = len(ftr_list_multivariate)\n",
    "    df_grouping_list = []\n",
    "    map_group_pupilId_list = []\n",
    "    map_group_cmonth_list = []\n",
    "    print('Start fitting multivariate mixture models.')\n",
    "    for trial in range(0, n_trials):\n",
    "        print('Trial NO. = {}/{}'.format(trial+1, n_trials))\n",
    "    \n",
    "        group = group_ic[:]\n",
    "        group_name = group_ic_name[:]\n",
    "    \n",
    "        for i_multi in range(0, n_multi):\n",
    "            if baysian:\n",
    "                dpgmm = mixture.BayesianGaussianMixture(\n",
    "                    n_components=n_components,\n",
    "                    covariance_type='full',\n",
    "                    covariance_prior=1e0 * np.eye(n_features),\n",
    "                    weight_concentration_prior_type='dirichlet_process',\n",
    "                    init_params=\"random\", tol=1e-6, max_iter=10000, n_init=1, \n",
    "                    verbose=0, verbose_interval=100).fit(X)\n",
    "                l = dpgmm.predict(X)\n",
    "            else:\n",
    "                gmm = mixture.GaussianMixture(\n",
    "                    n_components=n_components, \n",
    "                    covariance_type='full',\n",
    "                    init_params='random',\n",
    "                    verbose=0, verbose_interval=100,\n",
    "                    n_init=1, tol=1e-6, max_iter=1000).fit(X)\n",
    "                l = gmm.predict(X)\n",
    "        \n",
    "            group.append(l)\n",
    "            group_name.append('multi'+str(i_multi))\n",
    "    \n",
    "        df_grouping, map_group_pupilId, map_group_cmonth = construct_df_grouping(group, group_name, df_whizz)\n",
    "        df_grouping_list.append(df_grouping)\n",
    "        map_group_pupilId_list.append(map_group_pupilId)\n",
    "        map_group_cmonth_list.append(map_group_cmonth)\n",
    "        \n",
    "    return  df_grouping_list, map_group_pupilId_list, map_group_cmonth_list\n",
    "\n",
    "def select_bestMixtureModel(df_grouping_list, map_group_pupilId_list, map_group_cmonth_list, criterion='deviation'):\n",
    "\n",
    "    # Evaluate different groupings and select the best\n",
    "    score_list = compute_groupingScore(df_grouping_list, y)\n",
    "    idx_maxScore = np.argmax(score_list)\n",
    "    df_grouping = df_grouping_list[idx_maxScore]\n",
    "    map_group_pupilId = map_group_pupilId_list[idx_maxScore]\n",
    "    map_group_cmonth = map_group_cmonth_list[idx_maxScore]\n",
    "    \n",
    "    return df_grouping, map_group_pupilId, map_group_cmonth"
   ]
  },
  {
   "cell_type": "code",
   "execution_count": 237,
   "metadata": {},
   "outputs": [
    {
     "name": "stdout",
     "output_type": "stream",
     "text": [
      "Start fitting multivariate mixture models.\n",
      "Trial NO. = 1/2\n",
      "Trial NO. = 2/2\n"
     ]
    }
   ],
   "source": [
    "df_grouping_list, map_group_pupilId_list, map_group_cmonth_list = fit_mixtureModel(\n",
    "    df_whizz, ftrConfig, n_components, n_trials, n_multi, baysian)\n",
    "df_grouping, map_group_pupilId, map_group_cmonth = select_bestMixtureModel(\n",
    "    df_grouping_list, map_group_pupilId_list, map_group_cmonth_list, criterion='deviation')"
   ]
  }
 ],
 "metadata": {
  "kernelspec": {
   "display_name": "Python 3",
   "language": "python",
   "name": "python3"
  },
  "language_info": {
   "codemirror_mode": {
    "name": "ipython",
    "version": 3
   },
   "file_extension": ".py",
   "mimetype": "text/x-python",
   "name": "python",
   "nbconvert_exporter": "python",
   "pygments_lexer": "ipython3",
   "version": "3.6.4"
  }
 },
 "nbformat": 4,
 "nbformat_minor": 2
}
