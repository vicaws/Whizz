{
 "cells": [
  {
   "cell_type": "markdown",
   "metadata": {},
   "source": [
    "# Hidden Markov Model\n",
    "## Step 1 - Learn the state transition probabilities and eimission distributions\n",
    "Baum-Welch algorithm\n",
    "\n",
    "## Step 2 - Infer the most likely state of customers at prediction time\n",
    "Viterbi algorithm"
   ]
  },
  {
   "cell_type": "markdown",
   "metadata": {},
   "source": [
    "## Andy's advices\n",
    "\n",
    "(1) perform a clustering on each customer-month. That is, each data point is the aggregated activity for a customer in a single month. \n",
    "Using all these points, we can perform a clustering using a mixture model.\n",
    "\n",
    "(2) then calculate the transition probabilities from state to state as well as the probability of cancellation within each state.\n",
    "\n",
    "An example of this can be found in the \"Case Studies\" section of the attached. Hopefully it's useful."
   ]
  },
  {
   "cell_type": "markdown",
   "metadata": {},
   "source": [
    "# Features - Customer month\n",
    "\n",
    "## Personal Info\n",
    "\n",
    "Age\n",
    "\n",
    "Location\n",
    "\n",
    "## Activity\n",
    "\n",
    "Usage time - [0, 1 Month]\n",
    "\n",
    "Time since last attempt - [0, 1 Month]\n",
    "\n",
    "Number of attempts - [0, +infty]\n",
    "\n",
    "Percentage of incomplete attemps (in terms of time spent) - [0, 1] \n",
    "\n",
    "## Progress\n",
    "\n",
    "Progressions\n",
    "\n",
    "Effective progressions (progress per unit time)\n",
    "\n",
    "Average stack depth - ??? how to compose a single stak depth number over all topics that the pupils have taken during this specific customer month, need to note that pupils may not take lessons of some topics this customer month\n",
    "\n",
    "Average delta stack depth (diff between start and end of the month) (complete) - [0,3]\n",
    "\n",
    "Average math age - ??? how\n",
    "\n",
    "Average delta math age (diff between start and end of the month) - but the problem is we don't know the math age at the start of the month. This needs information from previous customer month(s).\n",
    "\n",
    "(a more precise measure of math age progress is to take into account the exerciseId progress)\n",
    "\n",
    "Average outcome (complete) - p(>0.7), f(<0.3), s(otherwise) ??? proposal: percentage of number of pass coutcomes over all attempts. A more precise measure is calculate the average score percentage (score vs. totalQuestions)"
   ]
  },
  {
   "cell_type": "code",
   "execution_count": null,
   "metadata": {},
   "outputs": [],
   "source": []
  }
 ],
 "metadata": {
  "kernelspec": {
   "display_name": "Python 3",
   "language": "python",
   "name": "python3"
  },
  "language_info": {
   "codemirror_mode": {
    "name": "ipython",
    "version": 3
   },
   "file_extension": ".py",
   "mimetype": "text/x-python",
   "name": "python",
   "nbconvert_exporter": "python",
   "pygments_lexer": "ipython3",
   "version": "3.6.4"
  }
 },
 "nbformat": 4,
 "nbformat_minor": 2
}
