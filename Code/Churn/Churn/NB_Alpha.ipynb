{
 "cells": [
  {
   "cell_type": "markdown",
   "metadata": {},
   "source": [
    "# Hidden Markov Model\n",
    "## Step 1 - Learn the state transition probabilities and eimission distributions\n",
    "Baum-Welch algorithm\n",
    "\n",
    "## Step 2 - Infer the most likely state of customers at prediction time\n",
    "Viterbi algorithm"
   ]
  },
  {
   "cell_type": "markdown",
   "metadata": {},
   "source": [
    "## Andy's advices\n",
    "\n",
    "(1) perform a clustering on each customer-month. That is, each data point is the aggregated activity for a customer in a single month. \n",
    "Using all these points, we can perform a clustering using a mixture model.\n",
    "\n",
    "(2) then calculate the transition probabilities from state to state as well as the probability of cancellation within each state.\n",
    "\n",
    "An example of this can be found in the \"Case Studies\" section of the attached. Hopefully it's useful."
   ]
  },
  {
   "cell_type": "code",
   "execution_count": null,
   "metadata": {},
   "outputs": [],
   "source": []
  }
 ],
 "metadata": {
  "kernelspec": {
   "display_name": "Python 3",
   "language": "python",
   "name": "python3"
  },
  "language_info": {
   "codemirror_mode": {
    "name": "ipython",
    "version": 3
   },
   "file_extension": ".py",
   "mimetype": "text/x-python",
   "name": "python",
   "nbconvert_exporter": "python",
   "pygments_lexer": "ipython3",
   "version": "3.6.4"
  }
 },
 "nbformat": 4,
 "nbformat_minor": 2
}
