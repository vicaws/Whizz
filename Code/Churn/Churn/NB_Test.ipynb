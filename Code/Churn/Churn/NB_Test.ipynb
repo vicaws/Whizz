{
 "cells": [
  {
   "cell_type": "markdown",
   "metadata": {},
   "source": [
    "This note book is for trying out new features and then deploy the definition into the scripts.\n",
    "\n",
    "In this note book, we do not call objects from model.dataEngine, but deploy methods into model.dataEngine."
   ]
  },
  {
   "cell_type": "code",
   "execution_count": 1,
   "metadata": {},
   "outputs": [],
   "source": [
    "import os\n",
    "import warnings\n",
    "import numpy as np\n",
    "import pandas as pd\n",
    "import matplotlib.pyplot as plt\n",
    "\n",
    "from tqdm import tqdm\n",
    "\n",
    "import config\n",
    "import model.performance\n",
    "import utility.df\n",
    "import utility.iolib\n",
    "import utility.plotlib\n",
    "from utility.feature import Feature\n",
    "from utility.feature import FeatureCM\n",
    "\n",
    "#env = sys.argv[1] if len(sys.argv) > 2 else \"dev\""
   ]
  },
  {
   "cell_type": "code",
   "execution_count": 2,
   "metadata": {},
   "outputs": [
    {
     "name": "stdout",
     "output_type": "stream",
     "text": [
      "Complete loading data for subscription and lesson history!\n",
      "By the cutoff date 2018-04-20, there are 1234 active subscriptions.\n",
      "These subscribers shall be removed from the analysis because we have no evidence to know the lifetime of their subscriptions. \n",
      "\n",
      "In the first month of dataset starting from 2014-01-01, there are 154 renewal or new subscriptions.\n",
      "These subscribers shall be removed from the analysis because we have no evidence to show if they renewed or newly joined. \n",
      "\n",
      "In summary, there are 1380/5685 subscribers being removed from the dataset in the analysis. \n",
      "\n",
      "Calculate customer month in the subscription table.\n"
     ]
    },
    {
     "name": "stderr",
     "output_type": "stream",
     "text": [
      "100%|██████████| 4305/4305 [00:06<00:00, 669.06it/s] \n"
     ]
    },
    {
     "name": "stdout",
     "output_type": "stream",
     "text": [
      "Construct data-driven dates frame.\n"
     ]
    },
    {
     "name": "stderr",
     "output_type": "stream",
     "text": [
      "100%|██████████| 21100/21100 [48:50<00:00,  7.20it/s]\n"
     ]
    },
    {
     "name": "stdout",
     "output_type": "stream",
     "text": [
      "+ Add feature: usage time.\n",
      "+ Add feature: progressions.\n",
      "+ Add feature: pupils' age.\n",
      "+ Add feature: math age.\n",
      "+ Add feature: outcome.\n",
      "+ Add feature: score.\n",
      "+ Add feature: hardship.\n"
     ]
    }
   ],
   "source": [
    "# Setup configuration\n",
    "cfg = config.ResearchConfig_MonAndAnn\n",
    "time_format = cfg.CSV_TIME_FORMAT\n",
    "date_format = cfg.CSV_DATE_FORMAT\n",
    "cutoff_date = pd.to_datetime(cfg.CUTOFF_DATE, format=cfg.CSV_DATE_FORMAT)\n",
    "\n",
    "# Retrieve data\n",
    "df_subspt, df_lesson, df_incomp, df_crclum, df_pupils = utility.iolib.retrieve_data(cfg)\n",
    "print(\"Complete loading data for subscription and lesson history!\")\n",
    "\n",
    "# Filter data\n",
    "cutoff_date = pd.to_datetime(cfg.CUTOFF_DATE, format=cfg.CSV_DATE_FORMAT)\n",
    "first_date_impFromData = df_subspt.subscription_start_date.min()\n",
    "\n",
    "pupils_toBeRemoved = utility.df.filter_subspt_data(\n",
    "    df_subspt, first_date_impFromData, cutoff_date, remove_annual_subspt=cfg.MONTHLY_ONLY)\n",
    "df_lesson1 = df_lesson[~df_lesson['pupilId'].isin(pupils_toBeRemoved)]\n",
    "df_incomp1 = df_incomp[~df_incomp['pupilId'].isin(pupils_toBeRemoved)]\n",
    "df_subspt1 = df_subspt[~df_subspt['pupilId'].isin(pupils_toBeRemoved)]\n",
    "\n",
    "df_subspt1 = utility.df.compute_customer_month(df_subspt1, cfg)\n",
    "\n",
    "# Construct dates frame\n",
    "df_datesFrame = utility.df.construct_dates_frame(df_subspt1, df_lesson1, df_incomp1, cfg)\n",
    "df_datesFrame.fillna(0, inplace=True)\n",
    "\n",
    "# Initialise feature obj\n",
    "feature = Feature(df_datesFrame)\n",
    "\n",
    "feature.add_usageTime(df_lesson1, df_incomp1)\n",
    "feature.add_progressions(df_lesson1)\n",
    "feature.add_age(df_pupils)\n",
    "feature.add_mathAge(df_lesson1, df_incomp1)\n",
    "feature.add_outcome(df_lesson1)\n",
    "feature.add_score(df_lesson1, df_incomp1)\n",
    "feature.add_hardship(df_lesson1)"
   ]
  }
 ],
 "metadata": {
  "kernelspec": {
   "display_name": "Python 3",
   "language": "python",
   "name": "python3"
  },
  "language_info": {
   "codemirror_mode": {
    "name": "ipython",
    "version": 3
   },
   "file_extension": ".py",
   "mimetype": "text/x-python",
   "name": "python",
   "nbconvert_exporter": "python",
   "pygments_lexer": "ipython3",
   "version": "3.6.4"
  }
 },
 "nbformat": 4,
 "nbformat_minor": 2
}
