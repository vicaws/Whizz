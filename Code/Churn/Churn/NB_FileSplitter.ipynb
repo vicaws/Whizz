{
 "cells": [
  {
   "cell_type": "code",
   "execution_count": 1,
   "metadata": {},
   "outputs": [],
   "source": [
    "import pandas as pd\n",
    "import config"
   ]
  },
  {
   "cell_type": "code",
   "execution_count": 17,
   "metadata": {},
   "outputs": [],
   "source": [
    "cfg = config.ResearchConfig_MonAndAnn\n",
    "fpath = cfg.DATA_FOLDER_PATH\n",
    "fpathchar = '20180524/'\n",
    "fname = fpath + fpathchar + 'homesubs_complete_lh_v3.csv'\n",
    "\n",
    "df = pd.read_csv(fname, delimiter=',')\n",
    "\n",
    "df = df.loc[:, ~df.columns.str.contains('^Unnamed')]\n",
    "\n",
    "size_df = len(df)\n",
    "\n",
    "df1 = df[:round(size_df/2)]\n",
    "df2 = df[round(size_df/2):]\n",
    "\n",
    "fname1 = fpath + fpathchar + 'homesubs_complete_lh_1.csv'\n",
    "fname2 = fpath + fpathchar + 'homesubs_complete_lh_2.csv'\n",
    "\n",
    "df1.to_csv(fname1, index=False)\n",
    "df2.to_csv(fname2, index=False)"
   ]
  },
  {
   "cell_type": "code",
   "execution_count": null,
   "metadata": {},
   "outputs": [],
   "source": []
  }
 ],
 "metadata": {
  "kernelspec": {
   "display_name": "Python 3",
   "language": "python",
   "name": "python3"
  },
  "language_info": {
   "codemirror_mode": {
    "name": "ipython",
    "version": 3
   },
   "file_extension": ".py",
   "mimetype": "text/x-python",
   "name": "python",
   "nbconvert_exporter": "python",
   "pygments_lexer": "ipython3",
   "version": "3.6.4"
  }
 },
 "nbformat": 4,
 "nbformat_minor": 2
}
